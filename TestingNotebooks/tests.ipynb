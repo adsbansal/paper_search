{
 "cells": [
  {
   "cell_type": "code",
   "execution_count": null,
   "metadata": {},
   "outputs": [],
   "source": [
    "#pip install serpapi \n",
    "#pip install google-search-results\n",
    "#replicate\n",
    "#typing_extensions"
   ]
  },
  {
   "cell_type": "code",
   "execution_count": 37,
   "metadata": {},
   "outputs": [],
   "source": [
    "from serpapi import GoogleSearch\n",
    "\n",
    "params = {\n",
    "  \"engine\": \"google_scholar\",\n",
    "  \"q\": \"Solving the Markovitz Problem in a Bayesian setting\",\n",
    "  \"hl\": \"en\",\n",
    "  \"as_ylo\": \"2020\",\n",
    "  \"num\": \"15\",\n",
    "  \"api_key\": \"\"\n",
    "}\n",
    "\n",
    "search = GoogleSearch(params)\n",
    "results = search.get_dict()\n",
    "\n",
    "results = results[\"organic_results\"]\n",
    "\n",
    "full_parse = []\n",
    "just_cite = []\n",
    "for i in results: \n",
    "    ex = i[\"inline_links\"]\n",
    "    if \"cited_by\" in ex:\n",
    "        ex = ex['cited_by'][\"total\"]\n",
    "    else: \n",
    "        ex = 0\n",
    "    just_cite.append(ex)\n",
    "    full_parse.append([ex, i[\"title\"], i[\"link\"], i[\"snippet\"], i[\"publication_info\"][\"summary\"]])\n",
    "\n",
    "full_parse.sort(key=lambda x: x[0], reverse=True)\n",
    "full_parse = full_parse[:7]"
   ]
  },
  {
   "cell_type": "code",
   "execution_count": null,
   "metadata": {},
   "outputs": [],
   "source": []
  },
  {
   "cell_type": "code",
   "execution_count": null,
   "metadata": {},
   "outputs": [],
   "source": [
    "from serpapi import GoogleSearch\n",
    "\n",
    "params = {\n",
    "  \"api_key\": \"\",\n",
    "  \"engine\": \"youtube\",\n",
    "  \"search_query\": \"Solving the Markovitz Problem in a Bayesian setting\"\n",
    "}\n",
    "\n",
    "search = GoogleSearch(params)\n",
    "results = search.get_dict()\n",
    "results = results[\"video_results\"]\n",
    "\n",
    "ans = []\n",
    "cnt = 0\n",
    "for dict in results:\n",
    "    if(cnt>4):\n",
    "        break\n",
    "    cnt += 1\n",
    "    ans.append([dict[\"title\"], dict[\"link\"], dict[\"length\"], dict[\"description\"]])\n",
    "\n",
    "ans"
   ]
  },
  {
   "cell_type": "code",
   "execution_count": null,
   "metadata": {},
   "outputs": [],
   "source": []
  },
  {
   "cell_type": "code",
   "execution_count": null,
   "metadata": {},
   "outputs": [],
   "source": []
  }
 ],
 "metadata": {
  "kernelspec": {
   "display_name": "base",
   "language": "python",
   "name": "python3"
  },
  "language_info": {
   "codemirror_mode": {
    "name": "ipython",
    "version": 3
   },
   "file_extension": ".py",
   "mimetype": "text/x-python",
   "name": "python",
   "nbconvert_exporter": "python",
   "pygments_lexer": "ipython3",
   "version": "3.10.8"
  }
 },
 "nbformat": 4,
 "nbformat_minor": 2
}
